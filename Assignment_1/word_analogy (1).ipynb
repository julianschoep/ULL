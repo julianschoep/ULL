{
 "cells": [
  {
   "cell_type": "markdown",
   "metadata": {},
   "source": [
    "## Word Analogy Task"
   ]
  },
  {
   "cell_type": "code",
   "execution_count": 86,
   "metadata": {
    "collapsed": true
   },
   "outputs": [],
   "source": [
    "import os\n",
    "import time\n",
    "from collections import defaultdict\n",
    "import numpy as np\n",
    "import math\n",
    "from tqdm import tqdm\n",
    "import heapq"
   ]
  },
  {
   "cell_type": "code",
   "execution_count": 2,
   "metadata": {
    "collapsed": true
   },
   "outputs": [],
   "source": [
    "def cosine_similarity(v1, v2,n1, n2):\n",
    "    # Returns a value between -1 and 1, 1 meaning exactly same\n",
    "    #  and -1 meaning exactly opposite.\n",
    "    assert len(v1) == len(v2)\n",
    "    numerator = sum([v1[i]*v2[i] for i in range(len(v1))])\n",
    "    denominator = np.sqrt(sum([x**2 for x in v1])) \\\n",
    "                * np.sqrt(sum([x**2 for x in v2]))\n",
    "    if denominator == 0:\n",
    "        print('division by zero with words:')\n",
    "        print(n1)\n",
    "        print(n2)\n",
    "    return (numerator/denominator)"
   ]
  },
  {
   "cell_type": "code",
   "execution_count": 75,
   "metadata": {},
   "outputs": [
    {
     "name": "stdout",
     "output_type": "stream",
     "text": [
      "It took 1.25 seconds to read in dataset bow5.words_small\n"
     ]
    }
   ],
   "source": [
    "# switch between 'bow5.words', 'bow2.words' and 'deps.words'\n",
    "def get_embeddings(filename):\n",
    "    # Returns a dictionary containing words as keys and word vectors\n",
    "    #  as values\n",
    "    vectors = {}\n",
    "    f = open(filename,'r')\n",
    "    word_embeddings = defaultdict(list)\n",
    "    s = time.time()\n",
    "    for line in f:\n",
    "        entry = [x.strip() for x in line.split(' ')]\n",
    "        word = entry[0]\n",
    "        vector = entry[1:]\n",
    "        \n",
    "        word_embeddings[word] = [np.float(x) for x in vector]\n",
    "    f.close()\n",
    "    e = time.time()\n",
    "    print('It took {} seconds to read in dataset {}'.format(e-s,filename))\n",
    "    return word_embeddings\n",
    "\n",
    "bow5_embeddings = get_embeddings('bow5.words_small')"
   ]
  },
  {
   "cell_type": "code",
   "execution_count": 88,
   "metadata": {
    "collapsed": true
   },
   "outputs": [],
   "source": [
    "vectors = {}\n",
    "with open('bow5.words_small') as f:\n",
    "    for line in f:\n",
    "        word, vector = line.split(\" \",1)\n",
    "        v = np.fromstring(vector, sep=' ', dtype='float32')\n",
    "        vectors[word] = v / np.linalg.norm(v)\n",
    "    "
   ]
  },
  {
   "cell_type": "code",
   "execution_count": 52,
   "metadata": {},
   "outputs": [],
   "source": [
    "analogy_file = \"questions-words.txt\""
   ]
  },
  {
   "cell_type": "code",
   "execution_count": null,
   "metadata": {
    "collapsed": true
   },
   "outputs": [],
   "source": [
    "# read google analogy test set\n",
    "test = []\n",
    "with open('questions-words.txt') as f:\n",
    "    for line in f:\n",
    "        analogy = line.strip().lower().split()\n",
    "        if(analogy[0] is not \":\"):\n",
    "            test.append(analogy)"
   ]
  },
  {
   "cell_type": "code",
   "execution_count": 95,
   "metadata": {},
   "outputs": [],
   "source": [
    "def sorted_by_similarity(words, base_vector):\n",
    "    \"\"\"Returns words sorted by cosine distance to a given vector, most similar first\"\"\"\n",
    "    words_with_distance = [(cosine_similarity(base_vector, w.vector, None, None), w) for w in words]\n",
    "    # We want cosine similarity to be as large as possible (close to 1)\n",
    "    return sorted(words_with_distance, key=lambda t: t[0], reverse=True)"
   ]
  },
  {
   "cell_type": "code",
   "execution_count": 64,
   "metadata": {},
   "outputs": [],
   "source": [
    "def closest_analogies(a0, a1, b0, words) :\n",
    "    word_a1 = find_word(a1, words)\n",
    "    word_a0 = find_word(a0, words)\n",
    "    word_b0 = find_word(b0, words)\n",
    "    vector = add_vectors(\n",
    "        sub_vectors(word_a1.vector, word_a0.vector),\n",
    "        word_b0.vector)\n",
    "    closest = sorted_by_similarity(words, vector)[:10]"
   ]
  },
  {
   "cell_type": "code",
   "execution_count": 87,
   "metadata": {
    "collapsed": true
   },
   "outputs": [],
   "source": [
    "def is_redundant(word):\n",
    "    return (\n",
    "        a1.lower() in word.lower() or\n",
    "        a0.lower() in word.lower() or\n",
    "        b0.lower() in word.lower())\n",
    "    return [(dist, w) for (dist, w) in closest if not is_redundant(w.text)]"
   ]
  },
  {
   "cell_type": "code",
   "execution_count": 72,
   "metadata": {},
   "outputs": [],
   "source": [
    "def print_analogy(a0, a1, b0, words):\n",
    "    analogies = closest_analogies(a0, a1, b0, words)\n",
    "    if (len(analogies) == 0):\n",
    "        print(\"{a0}-{a1} is like {b0}-?\")\n",
    "    else:\n",
    "        (dist, w) = analogies[0]\n",
    "        print(\"{a0}-{a1} is like {b0}-{w.text}\")"
   ]
  },
  {
   "cell_type": "code",
   "execution_count": null,
   "metadata": {
    "collapsed": true
   },
   "outputs": [],
   "source": [
    "def compare(b1_estimate, embeddings):\n",
    "    min_cos = 1000000\n",
    "    best_word = None\n",
    "    for word in list(embeddings.keys()):\n",
    "        word_vector = embeddings[word]\n",
    "        cos_sim = cosine_similarity(b1_estimate, word_vector, None, None)\n",
    "        if cos_sim < min_cos:\n",
    "            min_cos = cos_sim\n",
    "            best_word = word\n",
    "        \n",
    "    return best_word"
   ]
  },
  {
   "cell_type": "code",
   "execution_count": null,
   "metadata": {},
   "outputs": [],
   "source": [
    "# bow2_embeddings = get_embeddings('bow2.words')\n",
    "# deps_embeddings = get_embeddings('deps.words')\n"
   ]
  },
  {
   "cell_type": "code",
   "execution_count": null,
   "metadata": {
    "collapsed": true
   },
   "outputs": [],
   "source": [
    "import heapq\n",
    "from heapq import heappush, heappushpop\n",
    "from scipy.spatial.distance import cosine\n"
   ]
  },
  {
   "cell_type": "code",
   "execution_count": 89,
   "metadata": {},
   "outputs": [],
   "source": [
    "# read google analogy test set\n",
    "test = []\n",
    "with open('questions-words.txt') as f:\n",
    "    for line in f:\n",
    "        analogy = line.strip().lower().split()\n",
    "        if(analogy[0] is not \":\"):\n",
    "            test.append(analogy)"
   ]
  },
  {
   "cell_type": "code",
   "execution_count": 90,
   "metadata": {
    "collapsed": true
   },
   "outputs": [],
   "source": [
    "test_array = np.array([np.array(i) for i in test])"
   ]
  },
  {
   "cell_type": "code",
   "execution_count": 91,
   "metadata": {},
   "outputs": [
    {
     "data": {
      "text/plain": [
       "(19544L, 4L)"
      ]
     },
     "execution_count": 91,
     "metadata": {},
     "output_type": "execute_result"
    }
   ],
   "source": [
    "np.asarray(test_array).shape"
   ]
  },
  {
   "cell_type": "code",
   "execution_count": 92,
   "metadata": {
    "collapsed": true
   },
   "outputs": [],
   "source": [
    "a0 = [column[0] for column in test_array]\n",
    "a1 = [column[1] for column in test_array]\n",
    "b0 = [column[2] for column in test_array]\n",
    "b1 = [column[3] for column in test_array]"
   ]
  },
  {
   "cell_type": "code",
   "execution_count": null,
   "metadata": {},
   "outputs": [],
   "source": [
    "def offset_vector(a0, a1, b0, b1):\n",
    "    bi_estimate = (a1 - a0) + b0\n",
    "    return bi_estimate"
   ]
  },
  {
   "cell_type": "code",
   "execution_count": null,
   "metadata": {},
   "outputs": [],
   "source": [
    "def get_nearest(vectors, distance, N = 10):\n",
    "    nearest = []\n",
    "    for word,u in vectors.items():\n",
    "        nearness = -distance(u)\n",
    "        if len(nearest) < N:\n",
    "            heapq.heappush(nearest, (nearness, word))\n",
    "        else:\n",
    "            heapq.heappushpop(nearest, (nearness, word))\n",
    "    return sorted(nearest, reverse=True)"
   ]
  },
  {
   "cell_type": "code",
   "execution_count": 93,
   "metadata": {
    "collapsed": true
   },
   "outputs": [],
   "source": [
    "def print_nearest(vectors, word):\n",
    "    v = vectors[word]\n",
    "    print(word, np.linalg.norm(v))\n",
    "    for nearness, word in get_nearest(vectors, lambda u: cosine(u, v)):\n",
    "        print(word, nearness)\n",
    "        "
   ]
  },
  {
   "cell_type": "code",
   "execution_count": null,
   "metadata": {},
   "outputs": [],
   "source": [
    "def get_analogy(vectors, a0, a1, b0, distance):\n",
    "    return get_nearest(vectors, lambda b1: distance(a0, a1, b0))\n"
   ]
  },
  {
   "cell_type": "code",
   "execution_count": null,
   "metadata": {},
   "outputs": [],
   "source": [
    "def print_analogy(vectors, a0, a1, b0, distance=offset_vector):\n",
    "#     print(a0, a1, b0)\n",
    "    for nearness, word in get_analogy(vectors, vectors[a0], vectors[a1], vectors[b0],\n",
    "                                    distance):\n",
    "        print(word, nearness)"
   ]
  },
  {
   "cell_type": "code",
   "execution_count": null,
   "metadata": {
    "collapsed": true
   },
   "outputs": [],
   "source": [
    "def main():\n",
    "    vectors = bow5_embeddings\n",
    "    print_analogy(vectors, a0, a1, b0, distance=offset_vector)"
   ]
  },
  {
   "cell_type": "code",
   "execution_count": null,
   "metadata": {},
   "outputs": [],
   "source": [
    "if __name__ == '__main__':\n",
    "    main()"
   ]
  },
  {
   "cell_type": "code",
   "execution_count": null,
   "metadata": {
    "collapsed": true
   },
   "outputs": [],
   "source": []
  }
 ],
 "metadata": {
  "kernelspec": {
   "display_name": "Python 2",
   "language": "python",
   "name": "python2"
  },
  "language_info": {
   "codemirror_mode": {
    "name": "ipython",
    "version": 2
   },
   "file_extension": ".py",
   "mimetype": "text/x-python",
   "name": "python",
   "nbconvert_exporter": "python",
   "pygments_lexer": "ipython2",
   "version": "2.7.13"
  }
 },
 "nbformat": 4,
 "nbformat_minor": 2
}
