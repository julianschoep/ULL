{
 "cells": [
  {
   "cell_type": "markdown",
   "metadata": {},
   "source": [
    "<b> Word Similarity </b> <br>\n",
    "Your next step is to evaluate the three kinds of embeddings in the word similarity\n",
    "task. The goal of this task is to compute similarity of two words and\n",
    "evaluate the model-produced similarity against human judgements. Download\n",
    "two commonly-used word similarity datasets:<br>\n",
    "• SimLex: https://www.cl.cam.ac.uk/˜fh295/simlex.html<br>\n",
    "• MEN: https://staff.fnwi.uva.nl/e.bruni/MEN<br>\n",
    "Compute cosine similarity between the words using the three models. Evaluate\n",
    "the model-produced similarities against human judgements in terms of\n",
    "Pearson and Spearman correlation coefficients. <br>\n",
    "Compare the performance of\n",
    "the three models on this task. <br>\n",
    "Analyze the data qualitatively and report what\n",
    "are the differences in the kind of similarity captured by the three models.<br> We\n",
    "are interested to see both quantitative results and qualitative analysis in your\n",
    "report."
   ]
  },
  {
   "cell_type": "code",
   "execution_count": 38,
   "metadata": {},
   "outputs": [],
   "source": [
    "def read_in_SimLex():\n",
    "    # Read in the SimLex dataset\n",
    "    SimLex_file = open('SimLex-999/SimLex-999.txt','r')\n",
    "    SimLex_set = {}\n",
    "    next(SimLex_file)\n",
    "    for line in SimLex_file:\n",
    "        pair_data = [x.strip() for x in line.split('\\t')]\n",
    "        word1 = pair_data[0]\n",
    "        word2 = pair_data[1]\n",
    "        similarity_score = pair_data[4]\n",
    "        SimLex_set[(word1, word2)] = {'human':similarity_score}\n",
    "    return SimLex_set\n"
   ]
  },
  {
   "cell_type": "code",
   "execution_count": 24,
   "metadata": {},
   "outputs": [],
   "source": [
    "# Read in the MEN dataset\n",
    "def read_in_MENS():\n",
    "    MEN_file = open('MEN/MEN_dataset_natural_form_full','r')\n",
    "    MEN_set = {}\n",
    "    for line in MEN_file:\n",
    "        pair_data = [x.strip() for x in line.split(' ')]\n",
    "        word1 = pair_data[0]\n",
    "        word2 = pair_data[1]\n",
    "        similarity_score = pair_data[2]\n",
    "        MEN_set[(word1, word2)] = {'human':similarity_score}\n",
    "    return MEN_set"
   ]
  },
  {
   "cell_type": "code",
   "execution_count": 25,
   "metadata": {},
   "outputs": [],
   "source": [
    "# In order to reduce the size of the word embedding files,\n",
    "#  I will delete all non-occuring words from the relevant model and\n",
    "# store the word embeddings in a defaultdict for quick access.\n",
    "def get_occuring_words(MEN_set, SimLex_set):\n",
    "    occuring_words = []\n",
    "    for pair in list(MEN_set.keys())+list(SimLex_set.keys()):\n",
    "        word1 = pair[0]\n",
    "        word2 = pair[1]\n",
    "        if word1 not in occuring_words:\n",
    "            occuring_words.append(word1)\n",
    "        if word2 not in occuring_words:\n",
    "            occuring_words.append(word2)\n",
    "    return occuring_words"
   ]
  },
  {
   "cell_type": "code",
   "execution_count": 26,
   "metadata": {},
   "outputs": [],
   "source": [
    "# Read in the word vectors for a given word model\n",
    "import os\n",
    "import time\n",
    "from collections import defaultdict\n",
    "\n",
    "# switch between 'bow5.words', 'bow2.words' and 'deps.words'\n",
    "def get_embeddings(filename, occuring_words):\n",
    "    # Returns a dictionary containing words as keys and word vectors\n",
    "    #  as values\n",
    "    if filename+'_small' in os.listdir():\n",
    "        f = open(filename+'_small')\n",
    "        using_small = True\n",
    "    else:\n",
    "        f = open(filename,'r')\n",
    "        d = open(filename+'_small','w')\n",
    "    word_embeddings = defaultdict(list)\n",
    "    i =0\n",
    "    s = time.time()\n",
    "    for line in f:\n",
    "        entry = [x.strip() for x in line.split(' ')]\n",
    "        word = entry[0]\n",
    "        vector = entry[1:]\n",
    "        if word in occuring_words:\n",
    "            word_embeddings[word] = [np.float(x) for x in vector]\n",
    "            if not using_small:\n",
    "                d.write(line)\n",
    "    if not using_small:\n",
    "        d.close()\n",
    "    f.close()\n",
    "    e = time.time()\n",
    "    print('It took {} seconds to read in dataset {}'.format(e-s,filename))\n",
    "    return word_embeddings\n",
    "\n"
   ]
  },
  {
   "cell_type": "code",
   "execution_count": 27,
   "metadata": {},
   "outputs": [],
   "source": [
    "import numpy as np\n",
    "import math\n",
    "def cosine_similarity(v1, v2,n1, n2):\n",
    "    # Returns a value between -1 and 1, 1 meaning exactly same\n",
    "    #  and -1 meaning exactly opposite.\n",
    "    assert len(v1) == len(v2)\n",
    "    numerator = sum([v1[i]*v2[i] for i in range(len(v1))])\n",
    "    denominator = np.sqrt(sum([x**2 for x in v1])) \\\n",
    "                * np.sqrt(sum([x**2 for x in v2]))\n",
    "    if denominator == 0:\n",
    "        print('division by zero with words:')\n",
    "        print(n1)\n",
    "        print(n2)\n",
    "    return (numerator/denominator)"
   ]
  },
  {
   "cell_type": "code",
   "execution_count": 59,
   "metadata": {},
   "outputs": [],
   "source": [
    "\n",
    "def add_cosine_similarity(dataset, word_embeddings):\n",
    "    # Computes the cosine similarity per word pair and adds\n",
    "    #  it to the pair dictionary entry.\n",
    "    for pair in list(dataset.keys()):\n",
    "        v1, v2 = word_embeddings[pair[0]], word_embeddings[pair[1]]\n",
    "        if len(v1) != len(v2):\n",
    "            if len(v1) == 0 or len(v2) == 0:\n",
    "                print('Removing {} and {} from dataset'.format(pair[0],pair[1]))\n",
    "                print('No word embedding found for one of them')\n",
    "                del dataset[pair]\n",
    "            else:\n",
    "                print(\"Something weird happened with:\")\n",
    "                print(pair[0], pair[1])\n",
    "        else:\n",
    "            cos_sim = cosine_similarity(v1,v2,pair[0],pair[1])\n",
    "            dataset[pair]['cos_sim'] = cos_sim\n",
    "    return dataset\n",
    "\n",
    "def get_just_data(dataset):\n",
    "    # Returns the human judgements and cosine similarities \n",
    "    # as a nx2 numpy array for easy data anaylsis\n",
    "    n = len(dataset)\n",
    "    result = np.zeros((2,n))\n",
    "    for i,pair in enumerate(list(dataset.keys())):\n",
    "        result[0,i] = dataset[pair]['human']\n",
    "        result[1,i] = dataset[pair]['cos_sim']\n",
    "    return result\n",
    "\n"
   ]
  },
  {
   "cell_type": "code",
   "execution_count": 60,
   "metadata": {},
   "outputs": [],
   "source": [
    "def get_similarity_measures(filename):\n",
    "    s = time.time()\n",
    "    MEN_set = read_in_MENS()\n",
    "    SimLex_set = read_in_SimLex()\n",
    "    occuring_words = get_occuring_words(MEN_set, SimLex_set)\n",
    "    word_embeddings = get_embeddings(filename,occuring_words)\n",
    "    MEN_set = add_cosine_similarity(MEN_set, word_embeddings)\n",
    "    SimLex_set = add_cosine_similarity(SimLex_set, word_embeddings)\n",
    "    MEN_data = get_just_data(MEN_set)\n",
    "    SimLex_data = get_just_data(SimLex_set)\n",
    "    e = time.time()\n",
    "    print('Getting similarity measures on {} took {} seconds'.format(filename,(e-s)))\n",
    "    return MEN_data, SimLex_data"
   ]
  },
  {
   "cell_type": "code",
   "execution_count": 61,
   "metadata": {},
   "outputs": [
    {
     "name": "stdout",
     "output_type": "stream",
     "text": [
      "It took 0.18975138664245605 seconds to read in dataset bow2.words\n",
      "Removing disorganize and organize from dataset\n",
      "No word embedding found for one of them\n",
      "Getting similarity measures on bow2.words took 0.6416621208190918 seconds\n",
      "It took 0.20302033424377441 seconds to read in dataset bow5.words\n",
      "Removing disorganize and organize from dataset\n",
      "No word embedding found for one of them\n",
      "Getting similarity measures on bow5.words took 0.6934762001037598 seconds\n",
      "It took 0.19661569595336914 seconds to read in dataset deps.words\n",
      "Removing disorganize and organize from dataset\n",
      "No word embedding found for one of them\n",
      "Getting similarity measures on deps.words took 0.661745548248291 seconds\n"
     ]
    }
   ],
   "source": [
    "# Read in the three datasets\n",
    "MEN_k2, Sim_k2 = get_similarity_measures('bow2.words')\n",
    "MEN_k5, Sim_k5 = get_similarity_measures('bow5.words')\n",
    "MEN_deps, Sim_deps = get_similarity_measures('deps.words')\n"
   ]
  },
  {
   "cell_type": "code",
   "execution_count": 85,
   "metadata": {},
   "outputs": [
    {
     "data": {
      "text/plain": [
       "<enumerate at 0x7f5af76f61b0>"
      ]
     },
     "execution_count": 85,
     "metadata": {},
     "output_type": "execute_result"
    }
   ],
   "source": [
    "x = MEN_k5[1,:]\n",
    "enumerate(x)"
   ]
  },
  {
   "cell_type": "code",
   "execution_count": 138,
   "metadata": {},
   "outputs": [
    {
     "name": "stdout",
     "output_type": "stream",
     "text": [
      "-0.03140872863290265\n",
      "-0.027995780899783496\n"
     ]
    },
    {
     "data": {
      "image/png": "[encoded data removed]",
      "text/plain": [
       "<matplotlib.figure.Figure at 0x7f5af5e30588>"
      ]
     },
     "metadata": {},
     "output_type": "display_data"
    }
   ],
   "source": [
    "def calc_Pearson_correlation(data):\n",
    "    # data[0,:] are the human observations\n",
    "    # data[1,:] are the computed cosine similarities\n",
    "    assert data.shape[0] == 2, 'Data must have two measures per variable.'\n",
    "    cov_matrix = np.cov(data)\n",
    "    assert cov_matrix[1,0] == cov_matrix[0,1],'These should be same...'\n",
    "    cov_hum_cos = cov_matrix[1,0]\n",
    "    std_hum = np.std(data[0,:])\n",
    "    std_cos = np.std(data[1,:])\n",
    "    rho = cov_hum_cos/(std_hum*std_cos)\n",
    "    return rho\n",
    "\n",
    "def calc_Spearman_correlation(data):\n",
    "    n = len(data[0,:])\n",
    "    d = data[:,data[0,:].argsort()] # data sorted on human judgements\n",
    "    ranked_data = np.array([d[0,:].argsort(),d[1,:].argsort()])\n",
    "    dif = [ranked_data[0,i]-ranked_data[1,i] for i in range(n)]\n",
    "    dif_sq = [x**2 for x in dif]\n",
    "    rho = 1 - ((6*sum(dif_sq))/(n*(n**2 -1)))\n",
    "    return rho\n",
    "\n",
    "print(calc_Pearson_correlation(Sim_k5))\n",
    "print(calc_Spearman_correlation(Sim_k5))\n",
    "import matplotlib.pyplot as plt\n",
    "\n",
    "plt.scatter(Sim_k5[1,:],Sim_k5[0,:])\n",
    "plt.show()"
   ]
  },
  {
   "cell_type": "code",
   "execution_count": null,
   "metadata": {},
   "outputs": [],
   "source": [
    "\n"
   ]
  },
  {
   "cell_type": "code",
   "execution_count": null,
   "metadata": {},
   "outputs": [],
   "source": [
    "\n"
   ]
  },
  {
   "cell_type": "code",
   "execution_count": null,
   "metadata": {},
   "outputs": [],
   "source": []
  },
  {
   "cell_type": "code",
   "execution_count": null,
   "metadata": {},
   "outputs": [],
   "source": []
  },
  {
   "cell_type": "code",
   "execution_count": null,
   "metadata": {},
   "outputs": [],
   "source": []
  }
 ],
 "metadata": {
  "kernelspec": {
   "display_name": "Python 3",
   "language": "python",
   "name": "python3"
  },
  "language_info": {
   "codemirror_mode": {
    "name": "ipython",
    "version": 3
   },
   "file_extension": ".py",
   "mimetype": "text/x-python",
   "name": "python",
   "nbconvert_exporter": "python",
   "pygments_lexer": "ipython3",
   "version": "3.5.2"
  }
 },
 "nbformat": 4,
 "nbformat_minor": 2
}
